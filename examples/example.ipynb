{
 "cells": [
  {
   "cell_type": "markdown",
   "id": "b46e091f",
   "metadata": {},
   "source": [
    "# Examples of usage from python interface"
   ]
  },
  {
   "cell_type": "code",
   "execution_count": 65,
   "id": "3cc44e39",
   "metadata": {},
   "outputs": [
    {
     "name": "stdout",
     "output_type": "stream",
     "text": [
      "Dihedral changes:\n",
      "(6, 0, 3, 7)\n"
     ]
    }
   ],
   "source": [
    "from vib_analysis.cli import run_vib_analysis\n",
    "\n",
    "vib_trj_dihedral = 'data/dihedral.v006.xyz'\n",
    "\n",
    "results = run_vib_analysis(\n",
    "        input_file=vib_trj_dihedral,\n",
    "        # bond_tolerance=1.5,\n",
    "        # angle_tolerance=1.1,\n",
    "        # dihedral_tolerance=1.0,\n",
    "        # bond_threshold=0.5,\n",
    "        # angle_threshold=10.0,\n",
    "        # dihedral_threshold=20.0,\n",
    "    )\n",
    "# print the results that have entries (dont print empty results)\n",
    "if results['bond_changes']:\n",
    "    print('Bond changes:')\n",
    "    for bond in results['bond_changes']:\n",
    "        print(bond)\n",
    "if results['angle_changes']:\n",
    "    print('Angle changes:')\n",
    "    for angle in results['angle_changes']:\n",
    "        print(angle)\n",
    "if results['dihedral_changes']:\n",
    "    print('Dihedral changes:')\n",
    "    for dihedral in results['dihedral_changes']:\n",
    "        print(dihedral)\n",
    "\n",
    "if results['minor_angle_changes']:\n",
    "    print('Minor angle changes:')\n",
    "    for minor_angle in results['minor_angle_changes']:\n",
    "        print(minor_angle)\n",
    "if results['minor_dihedral_changes']:\n",
    "    print('Minor dihedral changes:')\n",
    "    for minor_dihedral in results['minor_dihedral_changes']:\n",
    "        print(minor_dihedral)\n"
   ]
  },
  {
   "cell_type": "code",
   "execution_count": 67,
   "id": "85206b69",
   "metadata": {},
   "outputs": [
    {
     "name": "stdout",
     "output_type": "stream",
     "text": [
      "Written trajectory to: data/spirocycle-TS.v000.xyz\n",
      "\n",
      "First 5 non-zero vibrational frequencies:\n",
      "  Mode 0: -180.3 cm**-1  (imaginary)\n",
      "  Mode 1: 18.7 cm**-1 \n",
      "  Mode 2: 22.1 cm**-1 \n",
      "  Mode 3: 35.4 cm**-1 \n",
      "  Mode 4: 51.1 cm**-1 \n",
      "\n",
      "Analysed vibrational trajectory (Mode 0 with frequency -180.2882 cm**-1):\n",
      "\n",
      "===== Significant Bond Changes =====\n",
      "Bond (13, 14): Δ = 1.676 Å, Initial = 2.159 Å\n",
      "Bond (12, 14): Δ = 0.584 Å, Initial = 2.361 Å\n",
      "Bond (13, 23): Δ = 0.543 Å, Initial = 2.284 Å\n",
      "\n",
      "===== Significant Angle Changes =====\n",
      "Angle (16, 15, 21): Δ = 21.129°, Initial = 111.902°\n",
      "\n",
      "===== Significant Dihedral Changes =====\n",
      "Dihedral (16, 15, 17, 18): Δ = 30.552°, Initial = 293.144°\n",
      "\n",
      "Note: These dihedrals are not directly dependent on other changes however they may be artefacts of other motion in the TS.\n"
     ]
    }
   ],
   "source": [
    "from vib_analysis.cli import run_vib_analysis\n",
    "\n",
    "out_file = 'data/spirocycle-TS.log'\n",
    "\n",
    "results = run_vib_analysis(\n",
    "        input_file=out_file,\n",
    "        parse_cclib=True,\n",
    "        mode=0,\n",
    "        print_output=True,\n",
    "        # bond_tolerance=1.5,\n",
    "        # angle_tolerance=1.1,\n",
    "        # dihedral_tolerance=1.0,\n",
    "        # bond_threshold=0.5,\n",
    "        # angle_threshold=10.0,\n",
    "        # dihedral_threshold=20.0,\n",
    "    )"
   ]
  },
  {
   "cell_type": "code",
   "execution_count": null,
   "id": "147a0c8a",
   "metadata": {},
   "outputs": [
    {
     "name": "stdout",
     "output_type": "stream",
     "text": [
      "{'bond_changes': {(11, 12): (1.432, 2.064)}, 'angle_changes': {}, 'minor_angle_changes': {(13, 12, 29): (11.02, 122.116)}, 'dihedral_changes': {(31, 13, 14, 32): (29.558, 185.91), (32, 14, 15, 20): (30.937, 350.826)}, 'minor_dihedral_changes': {(2, 1, 10, 11): (35.025, 194.336), (29, 12, 13, 31): (48.971, 17.521)}, 'frame_indices': [5, 14]}\n",
      "True: Bond change (11, 12) found in results.\n"
     ]
    }
   ],
   "source": [
    "from vib_analysis.cli import run_vib_analysis\n",
    "\n",
    "orca_out = 'data/bimp.out'\n",
    "\n",
    "results = run_vib_analysis(\n",
    "        input_file=orca_out,\n",
    "        parse_orca=True,\n",
    "        mode=6,\n",
    "        # print_output=True,\n",
    "    )\n",
    "\n",
    "print(results)\n",
    "\n",
    "theoretical_bond_change = (11,12)\n",
    "if theoretical_bond_change in results['bond_changes']:\n",
    "    print(f'True: Bond change {theoretical_bond_change} found in results.')"
   ]
  }
 ],
 "metadata": {
  "kernelspec": {
   "display_name": "base",
   "language": "python",
   "name": "python3"
  },
  "language_info": {
   "codemirror_mode": {
    "name": "ipython",
    "version": 3
   },
   "file_extension": ".py",
   "mimetype": "text/x-python",
   "name": "python",
   "nbconvert_exporter": "python",
   "pygments_lexer": "ipython3",
   "version": "3.12.9"
  }
 },
 "nbformat": 4,
 "nbformat_minor": 5
}
