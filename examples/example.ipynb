{
 "cells": [
  {
   "cell_type": "code",
   "execution_count": 4,
   "id": "3cc44e39",
   "metadata": {},
   "outputs": [
    {
     "name": "stdout",
     "output_type": "stream",
     "text": [
      "Dihedral changes:\n",
      "(6, 0, 3, 7)\n"
     ]
    }
   ],
   "source": [
    "from vib_analysis.core import analyze_internal_displacements\n",
    "\n",
    "vib_trj_bond = 'data/sn2.v006.xyz'\n",
    "vib_trj_dihedral = 'data/dihedral.v006.xyz'\n",
    "\n",
    "results = analyze_internal_displacements(\n",
    "    xyz_file=vib_trj_dihedral,\n",
    "    bond_tolerance=1.2,\n",
    "    angle_tolerance=1.1,\n",
    "    dihedral_tolerance=1.0,\n",
    "    bond_threshold=0.5,\n",
    "    angle_threshold=10.0,\n",
    ")\n",
    "# print the results that have entries (dont print empty results)\n",
    "if results['bond_changes']:\n",
    "    print('Bond changes:')\n",
    "    for bond in results['bond_changes']:\n",
    "        print(bond)\n",
    "if results['angle_changes']:\n",
    "    print('Angle changes:')\n",
    "    for angle in results['angle_changes']:\n",
    "        print(angle)\n",
    "if results['dihedral_changes']:\n",
    "    print('Dihedral changes:')\n",
    "    for dihedral in results['dihedral_changes']:\n",
    "        print(dihedral)\n",
    "\n",
    "if results['minor_angle_changes']:\n",
    "    print('Minor angle changes:')\n",
    "    for minor_angle in results['minor_angle_changes']:\n",
    "        print(minor_angle)\n",
    "if results['minor_dihedral_changes']:\n",
    "    print('Minor dihedral changes:')\n",
    "    for minor_dihedral in results['minor_dihedral_changes']:\n",
    "        print(minor_dihedral)"
   ]
  },
  {
   "cell_type": "code",
   "execution_count": null,
   "id": "147a0c8a",
   "metadata": {},
   "outputs": [
    {
     "name": "stdout",
     "output_type": "stream",
     "text": [
      "{'bond_changes': {(0, 4): (1.5838012436798223, 0.9250999243054775), (0, 5): (1.3557367841947847, 2.6303688790884445)}, 'angle_changes': {}, 'minor_angle_changes': {}, 'dihedral_changes': {}, 'minor_dihedral_changes': {}, 'frame_indices': [5, 14]}\n"
     ]
    }
   ],
   "source": [
    "vib_trj_bond = 'data/sn2.v006.xyz'\n",
    "\n",
    "results = analyze_internal_displacements(\n",
    "    xyz_file=vib_trj_bond,\n",
    "    bond_tolerance=1.2,\n",
    "    angle_tolerance=1.1,\n",
    "    dihedral_tolerance=1.0,\n",
    "    bond_threshold=0.5,\n",
    "    angle_threshold=10.0,\n",
    ")\n",
    "\n",
    "print(results)\n"
   ]
  }
 ],
 "metadata": {
  "kernelspec": {
   "display_name": "reactions-env",
   "language": "python",
   "name": "python3"
  },
  "language_info": {
   "codemirror_mode": {
    "name": "ipython",
    "version": 3
   },
   "file_extension": ".py",
   "mimetype": "text/x-python",
   "name": "python",
   "nbconvert_exporter": "python",
   "pygments_lexer": "ipython3",
   "version": "3.12.10"
  }
 },
 "nbformat": 4,
 "nbformat_minor": 5
}
