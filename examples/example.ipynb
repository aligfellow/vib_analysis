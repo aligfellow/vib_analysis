{
 "cells": [
  {
   "cell_type": "markdown",
   "id": "b46e091f",
   "metadata": {},
   "source": [
    "# Examples of usage from python interface"
   ]
  },
  {
   "cell_type": "code",
   "execution_count": 40,
   "id": "3cc44e39",
   "metadata": {},
   "outputs": [
    {
     "name": "stdout",
     "output_type": "stream",
     "text": [
      "Dihedral changes:\n",
      "(6, 0, 3, 7)\n"
     ]
    }
   ],
   "source": [
    "from vib_analysis.cli import run_vib_analysis\n",
    "\n",
    "vib_trj_dihedral = 'data/dihedral.v006.xyz'\n",
    "\n",
    "results = run_vib_analysis(\n",
    "        input_file=vib_trj_dihedral,\n",
    "        # bond_tolerance=1.5,\n",
    "        # angle_tolerance=1.1,\n",
    "        # dihedral_tolerance=1.0,\n",
    "        # bond_threshold=0.5,\n",
    "        # angle_threshold=10.0,\n",
    "        # dihedral_threshold=20.0,\n",
    "    )\n",
    "# print the results that have entries (dont print empty results)\n",
    "if results['bond_changes']:\n",
    "    print('Bond changes:')\n",
    "    for bond in results['bond_changes']:\n",
    "        print(bond)\n",
    "if results['angle_changes']:\n",
    "    print('Angle changes:')\n",
    "    for angle in results['angle_changes']:\n",
    "        print(angle)\n",
    "if results['dihedral_changes']:\n",
    "    print('Dihedral changes:')\n",
    "    for dihedral in results['dihedral_changes']:\n",
    "        print(dihedral)\n",
    "\n",
    "if results['minor_angle_changes']:\n",
    "    print('Minor angle changes:')\n",
    "    for minor_angle in results['minor_angle_changes']:\n",
    "        print(minor_angle)\n",
    "if results['minor_dihedral_changes']:\n",
    "    print('Minor dihedral changes:')\n",
    "    for minor_dihedral in results['minor_dihedral_changes']:\n",
    "        print(minor_dihedral)\n"
   ]
  },
  {
   "cell_type": "code",
   "execution_count": 60,
   "id": "147a0c8a",
   "metadata": {},
   "outputs": [
    {
     "name": "stdout",
     "output_type": "stream",
     "text": [
      "{'bond_changes': {(11, 12): (1.432, 2.064)}, 'angle_changes': {}, 'minor_angle_changes': {(13, 12, 29): (11.02, 122.116)}, 'dihedral_changes': {(31, 13, 14, 32): (29.558, 185.91), (32, 14, 15, 20): (30.937, 350.826)}, 'minor_dihedral_changes': {(2, 1, 10, 11): (35.025, 194.336), (29, 12, 13, 31): (48.971, 17.521)}, 'frame_indices': [5, 14]}\n",
      "True: Bond change (11, 12) found in results.\n"
     ]
    }
   ],
   "source": [
    "from vib_analysis.core import analyze_internal_displacements\n",
    "from vib_analysis.cli import run_vib_analysis\n",
    "\n",
    "orca_out = 'data/bimp.out'\n",
    "\n",
    "results = run_vib_analysis(\n",
    "        input_file=orca_out,\n",
    "        parse_orca=True,\n",
    "        mode=6,\n",
    "        # print_output=True,\n",
    "    )\n",
    "\n",
    "print(results)\n",
    "\n",
    "theoretical_bond_change = (11,12)\n",
    "if theoretical_bond_change in results['bond_changes']:\n",
    "    print(f'True: Bond change {theoretical_bond_change} found in results.')"
   ]
  }
 ],
 "metadata": {
  "kernelspec": {
   "display_name": "base",
   "language": "python",
   "name": "python3"
  },
  "language_info": {
   "codemirror_mode": {
    "name": "ipython",
    "version": 3
   },
   "file_extension": ".py",
   "mimetype": "text/x-python",
   "name": "python",
   "nbconvert_exporter": "python",
   "pygments_lexer": "ipython3",
   "version": "3.12.9"
  }
 },
 "nbformat": 4,
 "nbformat_minor": 5
}
